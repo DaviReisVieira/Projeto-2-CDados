{
 "cells": [
  {
   "cell_type": "markdown",
   "metadata": {
    "heading_collapsed": true
   },
   "source": [
    "# **Análise Exploratória  - ENEM 2019**"
   ]
  },
  {
   "cell_type": "markdown",
   "metadata": {
    "hidden": true
   },
   "source": [
    "![](https://t2.tudocdn.net/523732?w=1200)"
   ]
  },
  {
   "cell_type": "markdown",
   "metadata": {
    "heading_collapsed": true
   },
   "source": [
    "# **Introdução**"
   ]
  },
  {
   "cell_type": "markdown",
   "metadata": {
    "heading_collapsed": true,
    "hidden": true
   },
   "source": [
    "## **O que iremos fazer aqui?**"
   ]
  },
  {
   "cell_type": "markdown",
   "metadata": {
    "hidden": true
   },
   "source": [
    "Iremos fazer uma análise exploratória deste dataset\n",
    "\n",
    "Arquivo com Legenda de cada coluna: <a href=\"Legenda das Colunas.xlsx\">Legenda das Colunas.xlsx</a> "
   ]
  },
  {
   "cell_type": "markdown",
   "metadata": {
    "heading_collapsed": true
   },
   "source": [
    "# Bibliotecas Utilizadas"
   ]
  },
  {
   "cell_type": "markdown",
   "metadata": {
    "hidden": true
   },
   "source": [
    "As bibliotecas utilizadas foram baseadas em Python, conforme item abaixo.\n",
    "\n",
    "## NumPy:\n",
    "\n",
    "<p>NumPy é um pacote para a linguagem Python que suporta arrays e matrizes multidimensionais, possuindo uma larga coleção de funções matemáticas para trabalhar com estas estruturas.</p>\n",
    "\n",
    "## SciPy:\n",
    "\n",
    "<p>SciPy é uma biblioteca Open Source em linguagem Python que foi feita para matemáticos, cientistas e engenheiros. Também tem o nome de uma popular conferência de programação científica com Python. A sua biblioteca central é NumPy que fornece uma manipulação conveniente e rápida de um array N-dimensional.</p>\n",
    "\n",
    "## Pandas:\n",
    "<p>Pandas é uma biblioteca de software criada para a linguagem Python para manipulação e análise de dados. Em particular, oferece estruturas e operações para manipular tabelas numéricas e séries temporais.</p> \n",
    "\n",
    "## Scikit-learn:\n",
    "<p>A scikit-learn (originalmente scikits.learn) é uma biblioteca de aprendizado de máquina de código aberto para a linguagem de programação Python. Ela inclui vários algoritmos de classificação, regressão e agrupamento incluindo máquinas de vetores de suporte, florestas aleatórias, gradient boosting, k-means e DBSCAN, e é projetada para interagir com as bibliotecas Python numéricas e científicas NumPy e SciPy.</p>\n",
    "\n",
    "## Seaborn:\n",
    "\n",
    "<p>Seaborn é uma biblioteca de visualização de dados Python baseada em matplotlib . Ele fornece uma interface de alto nível para desenhar gráficos estatísticos atraentes e informativos.</p>\n",
    "\n",
    "## Matplotlib:\n",
    "<p>Matplotlib é uma biblioteca abrangente para a criação de visualizações estáticas, animadas e interativas em Python.</p>"
   ]
  },
  {
   "cell_type": "markdown",
   "metadata": {
    "hidden": true
   },
   "source": [
    "**Bibliotecas**"
   ]
  },
  {
   "cell_type": "code",
   "execution_count": 1,
   "metadata": {
    "hidden": true
   },
   "outputs": [],
   "source": [
    "import os\n",
    "import pandas as pd\n",
    "import numpy as np\n",
    "import seaborn as sns\n",
    "import matplotlib.pyplot as plt\n",
    "from scipy import stats\n",
    "import warnings\n",
    "warnings.filterwarnings('ignore')\n",
    "\n",
    "from __future__ import print_function\n",
    "from ipywidgets import interact, interactive, fixed, interact_manual\n",
    "import ipywidgets as widgets"
   ]
  },
  {
   "cell_type": "markdown",
   "metadata": {
    "heading_collapsed": true
   },
   "source": [
    "# Carregando os Dados"
   ]
  },
  {
   "cell_type": "code",
   "execution_count": 2,
   "metadata": {
    "hidden": true
   },
   "outputs": [
    {
     "data": {
      "text/html": [
       "<div>\n",
       "<style scoped>\n",
       "    .dataframe tbody tr th:only-of-type {\n",
       "        vertical-align: middle;\n",
       "    }\n",
       "\n",
       "    .dataframe tbody tr th {\n",
       "        vertical-align: top;\n",
       "    }\n",
       "\n",
       "    .dataframe thead th {\n",
       "        text-align: right;\n",
       "    }\n",
       "</style>\n",
       "<table border=\"1\" class=\"dataframe\">\n",
       "  <thead>\n",
       "    <tr style=\"text-align: right;\">\n",
       "      <th></th>\n",
       "      <th>NU_INSCRICAO</th>\n",
       "      <th>NU_ANO</th>\n",
       "      <th>CO_MUNICIPIO_RESIDENCIA</th>\n",
       "      <th>NO_MUNICIPIO_RESIDENCIA</th>\n",
       "      <th>CO_UF_RESIDENCIA</th>\n",
       "      <th>SG_UF_RESIDENCIA</th>\n",
       "      <th>NU_IDADE</th>\n",
       "      <th>TP_SEXO</th>\n",
       "      <th>TP_ESTADO_CIVIL</th>\n",
       "      <th>TP_COR_RACA</th>\n",
       "      <th>...</th>\n",
       "      <th>Q016</th>\n",
       "      <th>Q017</th>\n",
       "      <th>Q018</th>\n",
       "      <th>Q019</th>\n",
       "      <th>Q020</th>\n",
       "      <th>Q021</th>\n",
       "      <th>Q022</th>\n",
       "      <th>Q023</th>\n",
       "      <th>Q024</th>\n",
       "      <th>Q025</th>\n",
       "    </tr>\n",
       "  </thead>\n",
       "  <tbody>\n",
       "    <tr>\n",
       "      <th>0</th>\n",
       "      <td>190001004630</td>\n",
       "      <td>2019</td>\n",
       "      <td>1507706</td>\n",
       "      <td>São Sebastião da Boa Vista</td>\n",
       "      <td>15</td>\n",
       "      <td>PA</td>\n",
       "      <td>23</td>\n",
       "      <td>M</td>\n",
       "      <td>0</td>\n",
       "      <td>3</td>\n",
       "      <td>...</td>\n",
       "      <td>A</td>\n",
       "      <td>A</td>\n",
       "      <td>A</td>\n",
       "      <td>C</td>\n",
       "      <td>A</td>\n",
       "      <td>A</td>\n",
       "      <td>D</td>\n",
       "      <td>A</td>\n",
       "      <td>A</td>\n",
       "      <td>A</td>\n",
       "    </tr>\n",
       "    <tr>\n",
       "      <th>1</th>\n",
       "      <td>190001004675</td>\n",
       "      <td>2019</td>\n",
       "      <td>1508100</td>\n",
       "      <td>Tucuruí</td>\n",
       "      <td>15</td>\n",
       "      <td>PA</td>\n",
       "      <td>23</td>\n",
       "      <td>F</td>\n",
       "      <td>1</td>\n",
       "      <td>3</td>\n",
       "      <td>...</td>\n",
       "      <td>A</td>\n",
       "      <td>A</td>\n",
       "      <td>A</td>\n",
       "      <td>C</td>\n",
       "      <td>A</td>\n",
       "      <td>A</td>\n",
       "      <td>E</td>\n",
       "      <td>A</td>\n",
       "      <td>B</td>\n",
       "      <td>B</td>\n",
       "    </tr>\n",
       "    <tr>\n",
       "      <th>2</th>\n",
       "      <td>190001004691</td>\n",
       "      <td>2019</td>\n",
       "      <td>1500958</td>\n",
       "      <td>Aurora do Pará</td>\n",
       "      <td>15</td>\n",
       "      <td>PA</td>\n",
       "      <td>22</td>\n",
       "      <td>F</td>\n",
       "      <td>1</td>\n",
       "      <td>3</td>\n",
       "      <td>...</td>\n",
       "      <td>A</td>\n",
       "      <td>A</td>\n",
       "      <td>A</td>\n",
       "      <td>B</td>\n",
       "      <td>A</td>\n",
       "      <td>A</td>\n",
       "      <td>C</td>\n",
       "      <td>A</td>\n",
       "      <td>A</td>\n",
       "      <td>A</td>\n",
       "    </tr>\n",
       "    <tr>\n",
       "      <th>3</th>\n",
       "      <td>190001004746</td>\n",
       "      <td>2019</td>\n",
       "      <td>1501402</td>\n",
       "      <td>Belém</td>\n",
       "      <td>15</td>\n",
       "      <td>PA</td>\n",
       "      <td>20</td>\n",
       "      <td>F</td>\n",
       "      <td>1</td>\n",
       "      <td>1</td>\n",
       "      <td>...</td>\n",
       "      <td>A</td>\n",
       "      <td>A</td>\n",
       "      <td>A</td>\n",
       "      <td>B</td>\n",
       "      <td>A</td>\n",
       "      <td>A</td>\n",
       "      <td>D</td>\n",
       "      <td>A</td>\n",
       "      <td>A</td>\n",
       "      <td>B</td>\n",
       "    </tr>\n",
       "    <tr>\n",
       "      <th>4</th>\n",
       "      <td>190001004781</td>\n",
       "      <td>2019</td>\n",
       "      <td>1500206</td>\n",
       "      <td>Acará</td>\n",
       "      <td>15</td>\n",
       "      <td>PA</td>\n",
       "      <td>19</td>\n",
       "      <td>F</td>\n",
       "      <td>1</td>\n",
       "      <td>3</td>\n",
       "      <td>...</td>\n",
       "      <td>A</td>\n",
       "      <td>A</td>\n",
       "      <td>A</td>\n",
       "      <td>B</td>\n",
       "      <td>B</td>\n",
       "      <td>A</td>\n",
       "      <td>C</td>\n",
       "      <td>A</td>\n",
       "      <td>A</td>\n",
       "      <td>A</td>\n",
       "    </tr>\n",
       "  </tbody>\n",
       "</table>\n",
       "<p>5 rows × 136 columns</p>\n",
       "</div>"
      ],
      "text/plain": [
       "   NU_INSCRICAO  NU_ANO  CO_MUNICIPIO_RESIDENCIA     NO_MUNICIPIO_RESIDENCIA  \\\n",
       "0  190001004630    2019                  1507706  São Sebastião da Boa Vista   \n",
       "1  190001004675    2019                  1508100                     Tucuruí   \n",
       "2  190001004691    2019                  1500958              Aurora do Pará   \n",
       "3  190001004746    2019                  1501402                       Belém   \n",
       "4  190001004781    2019                  1500206                       Acará   \n",
       "\n",
       "   CO_UF_RESIDENCIA SG_UF_RESIDENCIA  NU_IDADE TP_SEXO  TP_ESTADO_CIVIL  \\\n",
       "0                15               PA        23       M                0   \n",
       "1                15               PA        23       F                1   \n",
       "2                15               PA        22       F                1   \n",
       "3                15               PA        20       F                1   \n",
       "4                15               PA        19       F                1   \n",
       "\n",
       "   TP_COR_RACA  ...  Q016  Q017 Q018  Q019 Q020  Q021  Q022  Q023  Q024  Q025  \n",
       "0            3  ...     A     A    A     C    A     A     D     A     A     A  \n",
       "1            3  ...     A     A    A     C    A     A     E     A     B     B  \n",
       "2            3  ...     A     A    A     B    A     A     C     A     A     A  \n",
       "3            1  ...     A     A    A     B    A     A     D     A     A     B  \n",
       "4            3  ...     A     A    A     B    B     A     C     A     A     A  \n",
       "\n",
       "[5 rows x 136 columns]"
      ]
     },
     "execution_count": 2,
     "metadata": {},
     "output_type": "execute_result"
    }
   ],
   "source": [
    "fonte = \"MICRODADOS_ENEM_2019_SAMPLE_ESTUDO.csv\" \n",
    "dados_enem2019_original = pd.read_csv(fonte)\n",
    "dados_enem2019_original.head()"
   ]
  },
  {
   "cell_type": "code",
   "execution_count": 3,
   "metadata": {
    "hidden": true,
    "scrolled": true
   },
   "outputs": [
    {
     "name": "stdout",
     "output_type": "stream",
     "text": [
      "Total de Linhas: 127380. Total de Colunas: 136\n"
     ]
    }
   ],
   "source": [
    "print('Total de Linhas: {}. Total de Colunas: {}' .format(dados_enem2019_original.shape[0],dados_enem2019_original.shape[1]))"
   ]
  },
  {
   "cell_type": "markdown",
   "metadata": {
    "heading_collapsed": true
   },
   "source": [
    "# Limpeza Inicial"
   ]
  },
  {
   "cell_type": "markdown",
   "metadata": {
    "heading_collapsed": true,
    "hidden": true
   },
   "source": [
    "## Removendo Inscrição e Ano"
   ]
  },
  {
   "cell_type": "markdown",
   "metadata": {
    "hidden": true
   },
   "source": [
    "Iremos inicialmente remover a coluna 'NU_INSCRICAO' uma vez que a mesma serve apenas para cadastro do usuário, seu ID. Também removeremos a coluna 'NU_ANO', que serve apenas para identificar o ano de realização do ENEM. Sabemos que todos os valores são relativos ao ENEM 2019."
   ]
  },
  {
   "cell_type": "code",
   "execution_count": 4,
   "metadata": {
    "hidden": true,
    "scrolled": false
   },
   "outputs": [
    {
     "data": {
      "text/html": [
       "<div>\n",
       "<style scoped>\n",
       "    .dataframe tbody tr th:only-of-type {\n",
       "        vertical-align: middle;\n",
       "    }\n",
       "\n",
       "    .dataframe tbody tr th {\n",
       "        vertical-align: top;\n",
       "    }\n",
       "\n",
       "    .dataframe thead th {\n",
       "        text-align: right;\n",
       "    }\n",
       "</style>\n",
       "<table border=\"1\" class=\"dataframe\">\n",
       "  <thead>\n",
       "    <tr style=\"text-align: right;\">\n",
       "      <th></th>\n",
       "      <th>CO_MUNICIPIO_RESIDENCIA</th>\n",
       "      <th>NO_MUNICIPIO_RESIDENCIA</th>\n",
       "      <th>CO_UF_RESIDENCIA</th>\n",
       "      <th>SG_UF_RESIDENCIA</th>\n",
       "      <th>NU_IDADE</th>\n",
       "      <th>TP_SEXO</th>\n",
       "      <th>TP_ESTADO_CIVIL</th>\n",
       "      <th>TP_COR_RACA</th>\n",
       "      <th>TP_NACIONALIDADE</th>\n",
       "      <th>CO_MUNICIPIO_NASCIMENTO</th>\n",
       "      <th>...</th>\n",
       "      <th>Q016</th>\n",
       "      <th>Q017</th>\n",
       "      <th>Q018</th>\n",
       "      <th>Q019</th>\n",
       "      <th>Q020</th>\n",
       "      <th>Q021</th>\n",
       "      <th>Q022</th>\n",
       "      <th>Q023</th>\n",
       "      <th>Q024</th>\n",
       "      <th>Q025</th>\n",
       "    </tr>\n",
       "  </thead>\n",
       "  <tbody>\n",
       "    <tr>\n",
       "      <th>0</th>\n",
       "      <td>1507706</td>\n",
       "      <td>São Sebastião da Boa Vista</td>\n",
       "      <td>15</td>\n",
       "      <td>PA</td>\n",
       "      <td>23</td>\n",
       "      <td>M</td>\n",
       "      <td>0</td>\n",
       "      <td>3</td>\n",
       "      <td>1</td>\n",
       "      <td>1501402.0</td>\n",
       "      <td>...</td>\n",
       "      <td>A</td>\n",
       "      <td>A</td>\n",
       "      <td>A</td>\n",
       "      <td>C</td>\n",
       "      <td>A</td>\n",
       "      <td>A</td>\n",
       "      <td>D</td>\n",
       "      <td>A</td>\n",
       "      <td>A</td>\n",
       "      <td>A</td>\n",
       "    </tr>\n",
       "    <tr>\n",
       "      <th>1</th>\n",
       "      <td>1508100</td>\n",
       "      <td>Tucuruí</td>\n",
       "      <td>15</td>\n",
       "      <td>PA</td>\n",
       "      <td>23</td>\n",
       "      <td>F</td>\n",
       "      <td>1</td>\n",
       "      <td>3</td>\n",
       "      <td>1</td>\n",
       "      <td>1502939.0</td>\n",
       "      <td>...</td>\n",
       "      <td>A</td>\n",
       "      <td>A</td>\n",
       "      <td>A</td>\n",
       "      <td>C</td>\n",
       "      <td>A</td>\n",
       "      <td>A</td>\n",
       "      <td>E</td>\n",
       "      <td>A</td>\n",
       "      <td>B</td>\n",
       "      <td>B</td>\n",
       "    </tr>\n",
       "    <tr>\n",
       "      <th>2</th>\n",
       "      <td>1500958</td>\n",
       "      <td>Aurora do Pará</td>\n",
       "      <td>15</td>\n",
       "      <td>PA</td>\n",
       "      <td>22</td>\n",
       "      <td>F</td>\n",
       "      <td>1</td>\n",
       "      <td>3</td>\n",
       "      <td>1</td>\n",
       "      <td>1500958.0</td>\n",
       "      <td>...</td>\n",
       "      <td>A</td>\n",
       "      <td>A</td>\n",
       "      <td>A</td>\n",
       "      <td>B</td>\n",
       "      <td>A</td>\n",
       "      <td>A</td>\n",
       "      <td>C</td>\n",
       "      <td>A</td>\n",
       "      <td>A</td>\n",
       "      <td>A</td>\n",
       "    </tr>\n",
       "    <tr>\n",
       "      <th>3</th>\n",
       "      <td>1501402</td>\n",
       "      <td>Belém</td>\n",
       "      <td>15</td>\n",
       "      <td>PA</td>\n",
       "      <td>20</td>\n",
       "      <td>F</td>\n",
       "      <td>1</td>\n",
       "      <td>1</td>\n",
       "      <td>1</td>\n",
       "      <td>1501402.0</td>\n",
       "      <td>...</td>\n",
       "      <td>A</td>\n",
       "      <td>A</td>\n",
       "      <td>A</td>\n",
       "      <td>B</td>\n",
       "      <td>A</td>\n",
       "      <td>A</td>\n",
       "      <td>D</td>\n",
       "      <td>A</td>\n",
       "      <td>A</td>\n",
       "      <td>B</td>\n",
       "    </tr>\n",
       "    <tr>\n",
       "      <th>4</th>\n",
       "      <td>1500206</td>\n",
       "      <td>Acará</td>\n",
       "      <td>15</td>\n",
       "      <td>PA</td>\n",
       "      <td>19</td>\n",
       "      <td>F</td>\n",
       "      <td>1</td>\n",
       "      <td>3</td>\n",
       "      <td>1</td>\n",
       "      <td>1500206.0</td>\n",
       "      <td>...</td>\n",
       "      <td>A</td>\n",
       "      <td>A</td>\n",
       "      <td>A</td>\n",
       "      <td>B</td>\n",
       "      <td>B</td>\n",
       "      <td>A</td>\n",
       "      <td>C</td>\n",
       "      <td>A</td>\n",
       "      <td>A</td>\n",
       "      <td>A</td>\n",
       "    </tr>\n",
       "  </tbody>\n",
       "</table>\n",
       "<p>5 rows × 134 columns</p>\n",
       "</div>"
      ],
      "text/plain": [
       "   CO_MUNICIPIO_RESIDENCIA     NO_MUNICIPIO_RESIDENCIA  CO_UF_RESIDENCIA  \\\n",
       "0                  1507706  São Sebastião da Boa Vista                15   \n",
       "1                  1508100                     Tucuruí                15   \n",
       "2                  1500958              Aurora do Pará                15   \n",
       "3                  1501402                       Belém                15   \n",
       "4                  1500206                       Acará                15   \n",
       "\n",
       "  SG_UF_RESIDENCIA  NU_IDADE TP_SEXO  TP_ESTADO_CIVIL  TP_COR_RACA  \\\n",
       "0               PA        23       M                0            3   \n",
       "1               PA        23       F                1            3   \n",
       "2               PA        22       F                1            3   \n",
       "3               PA        20       F                1            1   \n",
       "4               PA        19       F                1            3   \n",
       "\n",
       "   TP_NACIONALIDADE  CO_MUNICIPIO_NASCIMENTO  ... Q016  Q017 Q018  Q019  Q020  \\\n",
       "0                 1                1501402.0  ...    A     A    A     C     A   \n",
       "1                 1                1502939.0  ...    A     A    A     C     A   \n",
       "2                 1                1500958.0  ...    A     A    A     B     A   \n",
       "3                 1                1501402.0  ...    A     A    A     B     A   \n",
       "4                 1                1500206.0  ...    A     A    A     B     B   \n",
       "\n",
       "   Q021  Q022  Q023  Q024  Q025  \n",
       "0     A     D     A     A     A  \n",
       "1     A     E     A     B     B  \n",
       "2     A     C     A     A     A  \n",
       "3     A     D     A     A     B  \n",
       "4     A     C     A     A     A  \n",
       "\n",
       "[5 rows x 134 columns]"
      ]
     },
     "execution_count": 4,
     "metadata": {},
     "output_type": "execute_result"
    }
   ],
   "source": [
    "dados_enem2019=dados_enem2019_original.drop(columns=['NU_INSCRICAO','NU_ANO'])\n",
    "\n",
    "dados_enem2019.head()"
   ]
  },
  {
   "cell_type": "markdown",
   "metadata": {
    "heading_collapsed": true,
    "hidden": true
   },
   "source": [
    "## Removendo outros fatores"
   ]
  },
  {
   "cell_type": "code",
   "execution_count": 5,
   "metadata": {
    "hidden": true
   },
   "outputs": [
    {
     "data": {
      "text/html": [
       "<div>\n",
       "<style scoped>\n",
       "    .dataframe tbody tr th:only-of-type {\n",
       "        vertical-align: middle;\n",
       "    }\n",
       "\n",
       "    .dataframe tbody tr th {\n",
       "        vertical-align: top;\n",
       "    }\n",
       "\n",
       "    .dataframe thead th {\n",
       "        text-align: right;\n",
       "    }\n",
       "</style>\n",
       "<table border=\"1\" class=\"dataframe\">\n",
       "  <thead>\n",
       "    <tr style=\"text-align: right;\">\n",
       "      <th></th>\n",
       "      <th>CO_MUNICIPIO_RESIDENCIA</th>\n",
       "      <th>NO_MUNICIPIO_RESIDENCIA</th>\n",
       "      <th>CO_UF_RESIDENCIA</th>\n",
       "      <th>SG_UF_RESIDENCIA</th>\n",
       "      <th>NU_IDADE</th>\n",
       "      <th>TP_SEXO</th>\n",
       "      <th>TP_ESTADO_CIVIL</th>\n",
       "      <th>TP_COR_RACA</th>\n",
       "      <th>TP_NACIONALIDADE</th>\n",
       "      <th>CO_MUNICIPIO_NASCIMENTO</th>\n",
       "      <th>...</th>\n",
       "      <th>Q016</th>\n",
       "      <th>Q017</th>\n",
       "      <th>Q018</th>\n",
       "      <th>Q019</th>\n",
       "      <th>Q020</th>\n",
       "      <th>Q021</th>\n",
       "      <th>Q022</th>\n",
       "      <th>Q023</th>\n",
       "      <th>Q024</th>\n",
       "      <th>Q025</th>\n",
       "    </tr>\n",
       "  </thead>\n",
       "  <tbody>\n",
       "    <tr>\n",
       "      <th>0</th>\n",
       "      <td>1507706</td>\n",
       "      <td>São Sebastião da Boa Vista</td>\n",
       "      <td>15</td>\n",
       "      <td>PA</td>\n",
       "      <td>23</td>\n",
       "      <td>M</td>\n",
       "      <td>0</td>\n",
       "      <td>3</td>\n",
       "      <td>1</td>\n",
       "      <td>1501402.0</td>\n",
       "      <td>...</td>\n",
       "      <td>A</td>\n",
       "      <td>A</td>\n",
       "      <td>A</td>\n",
       "      <td>C</td>\n",
       "      <td>A</td>\n",
       "      <td>A</td>\n",
       "      <td>D</td>\n",
       "      <td>A</td>\n",
       "      <td>A</td>\n",
       "      <td>A</td>\n",
       "    </tr>\n",
       "    <tr>\n",
       "      <th>1</th>\n",
       "      <td>1508100</td>\n",
       "      <td>Tucuruí</td>\n",
       "      <td>15</td>\n",
       "      <td>PA</td>\n",
       "      <td>23</td>\n",
       "      <td>F</td>\n",
       "      <td>1</td>\n",
       "      <td>3</td>\n",
       "      <td>1</td>\n",
       "      <td>1502939.0</td>\n",
       "      <td>...</td>\n",
       "      <td>A</td>\n",
       "      <td>A</td>\n",
       "      <td>A</td>\n",
       "      <td>C</td>\n",
       "      <td>A</td>\n",
       "      <td>A</td>\n",
       "      <td>E</td>\n",
       "      <td>A</td>\n",
       "      <td>B</td>\n",
       "      <td>B</td>\n",
       "    </tr>\n",
       "    <tr>\n",
       "      <th>2</th>\n",
       "      <td>1500958</td>\n",
       "      <td>Aurora do Pará</td>\n",
       "      <td>15</td>\n",
       "      <td>PA</td>\n",
       "      <td>22</td>\n",
       "      <td>F</td>\n",
       "      <td>1</td>\n",
       "      <td>3</td>\n",
       "      <td>1</td>\n",
       "      <td>1500958.0</td>\n",
       "      <td>...</td>\n",
       "      <td>A</td>\n",
       "      <td>A</td>\n",
       "      <td>A</td>\n",
       "      <td>B</td>\n",
       "      <td>A</td>\n",
       "      <td>A</td>\n",
       "      <td>C</td>\n",
       "      <td>A</td>\n",
       "      <td>A</td>\n",
       "      <td>A</td>\n",
       "    </tr>\n",
       "    <tr>\n",
       "      <th>3</th>\n",
       "      <td>1501402</td>\n",
       "      <td>Belém</td>\n",
       "      <td>15</td>\n",
       "      <td>PA</td>\n",
       "      <td>20</td>\n",
       "      <td>F</td>\n",
       "      <td>1</td>\n",
       "      <td>1</td>\n",
       "      <td>1</td>\n",
       "      <td>1501402.0</td>\n",
       "      <td>...</td>\n",
       "      <td>A</td>\n",
       "      <td>A</td>\n",
       "      <td>A</td>\n",
       "      <td>B</td>\n",
       "      <td>A</td>\n",
       "      <td>A</td>\n",
       "      <td>D</td>\n",
       "      <td>A</td>\n",
       "      <td>A</td>\n",
       "      <td>B</td>\n",
       "    </tr>\n",
       "    <tr>\n",
       "      <th>4</th>\n",
       "      <td>1500206</td>\n",
       "      <td>Acará</td>\n",
       "      <td>15</td>\n",
       "      <td>PA</td>\n",
       "      <td>19</td>\n",
       "      <td>F</td>\n",
       "      <td>1</td>\n",
       "      <td>3</td>\n",
       "      <td>1</td>\n",
       "      <td>1500206.0</td>\n",
       "      <td>...</td>\n",
       "      <td>A</td>\n",
       "      <td>A</td>\n",
       "      <td>A</td>\n",
       "      <td>B</td>\n",
       "      <td>B</td>\n",
       "      <td>A</td>\n",
       "      <td>C</td>\n",
       "      <td>A</td>\n",
       "      <td>A</td>\n",
       "      <td>A</td>\n",
       "    </tr>\n",
       "  </tbody>\n",
       "</table>\n",
       "<p>5 rows × 83 columns</p>\n",
       "</div>"
      ],
      "text/plain": [
       "   CO_MUNICIPIO_RESIDENCIA     NO_MUNICIPIO_RESIDENCIA  CO_UF_RESIDENCIA  \\\n",
       "0                  1507706  São Sebastião da Boa Vista                15   \n",
       "1                  1508100                     Tucuruí                15   \n",
       "2                  1500958              Aurora do Pará                15   \n",
       "3                  1501402                       Belém                15   \n",
       "4                  1500206                       Acará                15   \n",
       "\n",
       "  SG_UF_RESIDENCIA  NU_IDADE TP_SEXO  TP_ESTADO_CIVIL  TP_COR_RACA  \\\n",
       "0               PA        23       M                0            3   \n",
       "1               PA        23       F                1            3   \n",
       "2               PA        22       F                1            3   \n",
       "3               PA        20       F                1            1   \n",
       "4               PA        19       F                1            3   \n",
       "\n",
       "   TP_NACIONALIDADE  CO_MUNICIPIO_NASCIMENTO  ... Q016  Q017 Q018  Q019  Q020  \\\n",
       "0                 1                1501402.0  ...    A     A    A     C     A   \n",
       "1                 1                1502939.0  ...    A     A    A     C     A   \n",
       "2                 1                1500958.0  ...    A     A    A     B     A   \n",
       "3                 1                1501402.0  ...    A     A    A     B     A   \n",
       "4                 1                1500206.0  ...    A     A    A     B     B   \n",
       "\n",
       "   Q021  Q022  Q023  Q024  Q025  \n",
       "0     A     D     A     A     A  \n",
       "1     A     E     A     B     B  \n",
       "2     A     C     A     A     A  \n",
       "3     A     D     A     A     B  \n",
       "4     A     C     A     A     A  \n",
       "\n",
       "[5 rows x 83 columns]"
      ]
     },
     "execution_count": 5,
     "metadata": {},
     "output_type": "execute_result"
    }
   ],
   "source": [
    "dados_enem2019=dados_enem2019.drop(columns=['IN_BAIXA_VISAO', 'IN_CEGUEIRA',\n",
    "                                            'IN_SURDEZ', 'IN_DEFICIENCIA_AUDITIVA',\n",
    "                                            'IN_SURDO_CEGUEIRA', 'IN_DEFICIENCIA_FISICA',\n",
    "                                            'IN_DEFICIENCIA_MENTAL', 'IN_DEFICIT_ATENCAO',\n",
    "                                            'IN_DISLEXIA', 'IN_DISCALCULIA', 'IN_AUTISMO',\n",
    "                                            'IN_VISAO_MONOCULAR', 'IN_OUTRA_DEF',\n",
    "                                            'IN_GESTANTE', 'IN_LACTANTE', 'IN_IDOSO',\n",
    "                                            'IN_ESTUDA_CLASSE_HOSPITALAR', 'IN_SEM_RECURSO',\n",
    "                                            'IN_BRAILLE', 'IN_AMPLIADA_24', 'IN_AMPLIADA_18',\n",
    "                                            'IN_LEDOR', 'IN_ACESSO', 'IN_TRANSCRICAO',\n",
    "                                            'IN_LIBRAS', 'IN_TEMPO_ADICIONAL', 'IN_LEITURA_LABIAL',\n",
    "                                            'IN_MESA_CADEIRA_RODAS', 'IN_MESA_CADEIRA_SEPARADA',\n",
    "                                            'IN_APOIO_PERNA', 'IN_GUIA_INTERPRETE', 'IN_COMPUTADOR',\n",
    "                                            'IN_CADEIRA_ESPECIAL', 'IN_CADEIRA_CANHOTO',\n",
    "                                            'IN_CADEIRA_ACOLCHOADA', 'IN_PROVA_DEITADO',\n",
    "                                            'IN_MOBILIARIO_OBESO', 'IN_LAMINA_OVERLAY',\n",
    "                                            'IN_PROTETOR_AURICULAR', 'IN_MEDIDOR_GLICOSE',\n",
    "                                            'IN_MAQUINA_BRAILE', 'IN_SOROBAN', 'IN_MARCA_PASSO',\n",
    "                                            'IN_SONDA', 'IN_MEDICAMENTOS', 'IN_SALA_INDIVIDUAL',\n",
    "                                            'IN_SALA_ESPECIAL', 'IN_SALA_ACOMPANHANTE',\n",
    "                                            'IN_MOBILIARIO_ESPECIFICO', 'IN_MATERIAL_ESPECIFICO',\n",
    "                                            'IN_NOME_SOCIAL'])\n",
    "\n",
    "dados_enem2019.head()"
   ]
  },
  {
   "cell_type": "markdown",
   "metadata": {
    "heading_collapsed": true
   },
   "source": [
    "# Análise Inicial"
   ]
  },
  {
   "cell_type": "markdown",
   "metadata": {
    "hidden": true
   },
   "source": [
    "## O que significam os valores NaN nas notas do candidato no dataset?"
   ]
  },
  {
   "cell_type": "code",
   "execution_count": 6,
   "metadata": {
    "hidden": true
   },
   "outputs": [
    {
     "data": {
      "text/html": [
       "<div>\n",
       "<style scoped>\n",
       "    .dataframe tbody tr th:only-of-type {\n",
       "        vertical-align: middle;\n",
       "    }\n",
       "\n",
       "    .dataframe tbody tr th {\n",
       "        vertical-align: top;\n",
       "    }\n",
       "\n",
       "    .dataframe thead th {\n",
       "        text-align: right;\n",
       "    }\n",
       "</style>\n",
       "<table border=\"1\" class=\"dataframe\">\n",
       "  <thead>\n",
       "    <tr style=\"text-align: right;\">\n",
       "      <th></th>\n",
       "      <th>NU_NOTA_CN</th>\n",
       "      <th>NU_NOTA_CH</th>\n",
       "      <th>NU_NOTA_MT</th>\n",
       "      <th>NU_NOTA_LC</th>\n",
       "    </tr>\n",
       "  </thead>\n",
       "  <tbody>\n",
       "    <tr>\n",
       "      <th>0</th>\n",
       "      <td>True</td>\n",
       "      <td>True</td>\n",
       "      <td>True</td>\n",
       "      <td>True</td>\n",
       "    </tr>\n",
       "    <tr>\n",
       "      <th>1</th>\n",
       "      <td>False</td>\n",
       "      <td>False</td>\n",
       "      <td>False</td>\n",
       "      <td>False</td>\n",
       "    </tr>\n",
       "    <tr>\n",
       "      <th>2</th>\n",
       "      <td>True</td>\n",
       "      <td>True</td>\n",
       "      <td>True</td>\n",
       "      <td>True</td>\n",
       "    </tr>\n",
       "    <tr>\n",
       "      <th>3</th>\n",
       "      <td>False</td>\n",
       "      <td>False</td>\n",
       "      <td>False</td>\n",
       "      <td>False</td>\n",
       "    </tr>\n",
       "    <tr>\n",
       "      <th>4</th>\n",
       "      <td>False</td>\n",
       "      <td>False</td>\n",
       "      <td>False</td>\n",
       "      <td>False</td>\n",
       "    </tr>\n",
       "  </tbody>\n",
       "</table>\n",
       "</div>"
      ],
      "text/plain": [
       "   NU_NOTA_CN  NU_NOTA_CH  NU_NOTA_MT  NU_NOTA_LC\n",
       "0        True        True        True        True\n",
       "1       False       False       False       False\n",
       "2        True        True        True        True\n",
       "3       False       False       False       False\n",
       "4       False       False       False       False"
      ]
     },
     "execution_count": 6,
     "metadata": {},
     "output_type": "execute_result"
    }
   ],
   "source": [
    "provas = ['NU_NOTA_CN', 'NU_NOTA_CH', 'NU_NOTA_MT', 'NU_NOTA_LC']\n",
    "dados_enem2019[provas].isna().head()"
   ]
  },
  {
   "cell_type": "markdown",
   "metadata": {
    "hidden": true
   },
   "source": [
    "Podemos ver que há valores faltantes apenas pela aparição do True no dataset acima. Por que eles aparecem?"
   ]
  },
  {
   "cell_type": "code",
   "execution_count": 7,
   "metadata": {
    "hidden": true
   },
   "outputs": [
    {
     "data": {
      "text/html": [
       "<div>\n",
       "<style scoped>\n",
       "    .dataframe tbody tr th:only-of-type {\n",
       "        vertical-align: middle;\n",
       "    }\n",
       "\n",
       "    .dataframe tbody tr th {\n",
       "        vertical-align: top;\n",
       "    }\n",
       "\n",
       "    .dataframe thead th {\n",
       "        text-align: right;\n",
       "    }\n",
       "</style>\n",
       "<table border=\"1\" class=\"dataframe\">\n",
       "  <thead>\n",
       "    <tr style=\"text-align: right;\">\n",
       "      <th></th>\n",
       "      <th>NU_NOTA_CN</th>\n",
       "      <th>NU_NOTA_CH</th>\n",
       "      <th>NU_NOTA_MT</th>\n",
       "      <th>NU_NOTA_LC</th>\n",
       "      <th>TP_PRESENCA_CN</th>\n",
       "      <th>TP_PRESENCA_CH</th>\n",
       "      <th>TP_PRESENCA_MT</th>\n",
       "      <th>TP_PRESENCA_LC</th>\n",
       "    </tr>\n",
       "  </thead>\n",
       "  <tbody>\n",
       "    <tr>\n",
       "      <th>0</th>\n",
       "      <td>NaN</td>\n",
       "      <td>NaN</td>\n",
       "      <td>NaN</td>\n",
       "      <td>NaN</td>\n",
       "      <td>0</td>\n",
       "      <td>0</td>\n",
       "      <td>0</td>\n",
       "      <td>0</td>\n",
       "    </tr>\n",
       "    <tr>\n",
       "      <th>1</th>\n",
       "      <td>462.2</td>\n",
       "      <td>499.9</td>\n",
       "      <td>477.9</td>\n",
       "      <td>438.0</td>\n",
       "      <td>1</td>\n",
       "      <td>1</td>\n",
       "      <td>1</td>\n",
       "      <td>1</td>\n",
       "    </tr>\n",
       "    <tr>\n",
       "      <th>2</th>\n",
       "      <td>NaN</td>\n",
       "      <td>NaN</td>\n",
       "      <td>NaN</td>\n",
       "      <td>NaN</td>\n",
       "      <td>0</td>\n",
       "      <td>0</td>\n",
       "      <td>0</td>\n",
       "      <td>0</td>\n",
       "    </tr>\n",
       "    <tr>\n",
       "      <th>3</th>\n",
       "      <td>416.7</td>\n",
       "      <td>417.3</td>\n",
       "      <td>554.3</td>\n",
       "      <td>504.4</td>\n",
       "      <td>1</td>\n",
       "      <td>1</td>\n",
       "      <td>1</td>\n",
       "      <td>1</td>\n",
       "    </tr>\n",
       "    <tr>\n",
       "      <th>4</th>\n",
       "      <td>439.3</td>\n",
       "      <td>546.8</td>\n",
       "      <td>506.2</td>\n",
       "      <td>465.6</td>\n",
       "      <td>1</td>\n",
       "      <td>1</td>\n",
       "      <td>1</td>\n",
       "      <td>1</td>\n",
       "    </tr>\n",
       "  </tbody>\n",
       "</table>\n",
       "</div>"
      ],
      "text/plain": [
       "   NU_NOTA_CN  NU_NOTA_CH  NU_NOTA_MT  NU_NOTA_LC  TP_PRESENCA_CN  \\\n",
       "0         NaN         NaN         NaN         NaN               0   \n",
       "1       462.2       499.9       477.9       438.0               1   \n",
       "2         NaN         NaN         NaN         NaN               0   \n",
       "3       416.7       417.3       554.3       504.4               1   \n",
       "4       439.3       546.8       506.2       465.6               1   \n",
       "\n",
       "   TP_PRESENCA_CH  TP_PRESENCA_MT  TP_PRESENCA_LC  \n",
       "0               0               0               0  \n",
       "1               1               1               1  \n",
       "2               0               0               0  \n",
       "3               1               1               1  \n",
       "4               1               1               1  "
      ]
     },
     "execution_count": 7,
     "metadata": {},
     "output_type": "execute_result"
    }
   ],
   "source": [
    "dados_faltantes_notas = dados_enem2019[['NU_NOTA_CN', 'NU_NOTA_CH', 'NU_NOTA_MT', 'NU_NOTA_LC', 'TP_PRESENCA_CN', 'TP_PRESENCA_CH', 'TP_PRESENCA_MT', 'TP_PRESENCA_LC']]\n",
    "dados_faltantes_notas.head()"
   ]
  },
  {
   "cell_type": "markdown",
   "metadata": {
    "hidden": true
   },
   "source": [
    "A partir da tabela acima, com o índice igual a 1, é possível relacionar com as faltas dos candidatos nos dias das provas que correspondem aos valores **NaN**."
   ]
  },
  {
   "cell_type": "markdown",
   "metadata": {
    "hidden": true
   },
   "source": [
    "## Analisando a Faixa Etária dos Candidatos"
   ]
  },
  {
   "cell_type": "code",
   "execution_count": 8,
   "metadata": {
    "hidden": true
   },
   "outputs": [
    {
     "data": {
      "text/plain": [
       "18    0.169030\n",
       "17    0.167153\n",
       "19    0.113291\n",
       "20    0.080915\n",
       "16    0.062686\n",
       "        ...   \n",
       "7     0.000008\n",
       "8     0.000008\n",
       "11    0.000008\n",
       "2     0.000008\n",
       "85    0.000008\n",
       "Name: NU_IDADE, Length: 69, dtype: float64"
      ]
     },
     "execution_count": 8,
     "metadata": {},
     "output_type": "execute_result"
    }
   ],
   "source": [
    "idades_enem_2019 = dados_enem2019['NU_IDADE']\n",
    "idades_enem_2019.value_counts(normalize = True)"
   ]
  },
  {
   "cell_type": "markdown",
   "metadata": {
    "hidden": true
   },
   "source": [
    "A idade com maior frequência nos dados da amostra foi de candidatos com 18 anos."
   ]
  },
  {
   "cell_type": "code",
   "execution_count": 9,
   "metadata": {
    "hidden": true
   },
   "outputs": [
    {
     "data": {
      "image/png": "[encoded data removed]",
      "text/plain": [
       "<Figure size 720x576 with 1 Axes>"
      ]
     },
     "metadata": {
      "needs_background": "light"
     },
     "output_type": "display_data"
    }
   ],
   "source": [
    "plt.figure(figsize=(10, 8))\n",
    "sns.set_theme(style=\"whitegrid\")\n",
    "enem_media_idades = plt.axvline(x = idades_enem_2019.mean(), c = \"#05BA7F\", linewidth = 3, linestyle = '--')\n",
    "enem_mediana_idades = plt.axvline(x = idades_enem_2019.median(), c = \"#A558C4\", linewidth = 3, linestyle = ':')\n",
    "enem_moda_idades = plt.axvline(x = idades_enem_2019.mode()[0], c = \"#FF5733\", linewidth = 3, linestyle = '-.')\n",
    "plt.legend([enem_media_idades, enem_mediana_idades, enem_moda_idades], ['Média', 'Mediana', 'Moda'])\n",
    "sns.histplot(idades_enem_2019, bins = 35).set_title('Distribuição das Idades ENEM 2019', fontsize = 16);"
   ]
  },
  {
   "cell_type": "markdown",
   "metadata": {
    "hidden": true
   },
   "source": [
    "A partir do grafico acima, é visível que a concentração de dados está por volta dos candidatos entre 17 e 25 anos."
   ]
  },
  {
   "cell_type": "code",
   "execution_count": 10,
   "metadata": {
    "hidden": true
   },
   "outputs": [
    {
     "data": {
      "text/plain": [
       "count    127380.000000\n",
       "mean         22.067051\n",
       "std           7.433180\n",
       "min           2.000000\n",
       "25%          18.000000\n",
       "50%          19.000000\n",
       "75%          24.000000\n",
       "max          85.000000\n",
       "Name: NU_IDADE, dtype: float64"
      ]
     },
     "execution_count": 10,
     "metadata": {},
     "output_type": "execute_result"
    }
   ],
   "source": [
    "idades_enem_2019.describe()"
   ]
  },
  {
   "cell_type": "markdown",
   "metadata": {
    "hidden": true
   },
   "source": [
    "A média de idade, na amostra, é de aproximadamente 22 anos. Entretanto, a mediana é de 19 anos. É possível visualizar que, apesar da idade máxima ser 85 anos, o terceiro quartil está em 24 anos de idade, sendo assim, ao menos 76% dos candidados tinham 24 anos ou menos.\n",
    "\n",
    "Conclui-se, também, que as idades **NÃO** estão normalmente distribuídas."
   ]
  },
  {
   "cell_type": "markdown",
   "metadata": {
    "hidden": true
   },
   "source": [
    "### **Encontrando a média de idade por município**"
   ]
  },
  {
   "cell_type": "code",
   "execution_count": 11,
   "metadata": {
    "hidden": true
   },
   "outputs": [
    {
     "data": {
      "text/html": [
       "<div>\n",
       "<style scoped>\n",
       "    .dataframe tbody tr th:only-of-type {\n",
       "        vertical-align: middle;\n",
       "    }\n",
       "\n",
       "    .dataframe tbody tr th {\n",
       "        vertical-align: top;\n",
       "    }\n",
       "\n",
       "    .dataframe thead th {\n",
       "        text-align: right;\n",
       "    }\n",
       "</style>\n",
       "<table border=\"1\" class=\"dataframe\">\n",
       "  <thead>\n",
       "    <tr style=\"text-align: right;\">\n",
       "      <th></th>\n",
       "      <th>NU_IDADE</th>\n",
       "    </tr>\n",
       "    <tr>\n",
       "      <th>NO_MUNICIPIO_RESIDENCIA</th>\n",
       "      <th></th>\n",
       "    </tr>\n",
       "  </thead>\n",
       "  <tbody>\n",
       "    <tr>\n",
       "      <th>Maria Helena</th>\n",
       "      <td>55.0</td>\n",
       "    </tr>\n",
       "  </tbody>\n",
       "</table>\n",
       "</div>"
      ],
      "text/plain": [
       "                         NU_IDADE\n",
       "NO_MUNICIPIO_RESIDENCIA          \n",
       "Maria Helena                 55.0"
      ]
     },
     "execution_count": 11,
     "metadata": {},
     "output_type": "execute_result"
    }
   ],
   "source": [
    "media_idade_municipio = pd.DataFrame(dados_enem2019.groupby(['NO_MUNICIPIO_RESIDENCIA']).mean()['NU_IDADE'])\n",
    "media_idade_municipio.loc[media_idade_municipio['NU_IDADE'] == media_idade_municipio['NU_IDADE'].max()] # Município com a média mais alta"
   ]
  },
  {
   "cell_type": "code",
   "execution_count": 12,
   "metadata": {
    "hidden": true
   },
   "outputs": [
    {
     "data": {
      "text/html": [
       "<div>\n",
       "<style scoped>\n",
       "    .dataframe tbody tr th:only-of-type {\n",
       "        vertical-align: middle;\n",
       "    }\n",
       "\n",
       "    .dataframe tbody tr th {\n",
       "        vertical-align: top;\n",
       "    }\n",
       "\n",
       "    .dataframe thead th {\n",
       "        text-align: right;\n",
       "    }\n",
       "</style>\n",
       "<table border=\"1\" class=\"dataframe\">\n",
       "  <thead>\n",
       "    <tr style=\"text-align: right;\">\n",
       "      <th></th>\n",
       "      <th>NU_IDADE</th>\n",
       "    </tr>\n",
       "    <tr>\n",
       "      <th>NO_MUNICIPIO_RESIDENCIA</th>\n",
       "      <th></th>\n",
       "    </tr>\n",
       "  </thead>\n",
       "  <tbody>\n",
       "    <tr>\n",
       "      <th>Abreulândia</th>\n",
       "      <td>15.0</td>\n",
       "    </tr>\n",
       "    <tr>\n",
       "      <th>Diamante do Sul</th>\n",
       "      <td>15.0</td>\n",
       "    </tr>\n",
       "    <tr>\n",
       "      <th>Fagundes Varela</th>\n",
       "      <td>15.0</td>\n",
       "    </tr>\n",
       "    <tr>\n",
       "      <th>Flor do Sertão</th>\n",
       "      <td>15.0</td>\n",
       "    </tr>\n",
       "    <tr>\n",
       "      <th>Gouvelândia</th>\n",
       "      <td>15.0</td>\n",
       "    </tr>\n",
       "    <tr>\n",
       "      <th>Itaipava do Grajaú</th>\n",
       "      <td>15.0</td>\n",
       "    </tr>\n",
       "    <tr>\n",
       "      <th>Jaborá</th>\n",
       "      <td>15.0</td>\n",
       "    </tr>\n",
       "    <tr>\n",
       "      <th>Lajeado Grande</th>\n",
       "      <td>15.0</td>\n",
       "    </tr>\n",
       "    <tr>\n",
       "      <th>Mansidão</th>\n",
       "      <td>15.0</td>\n",
       "    </tr>\n",
       "    <tr>\n",
       "      <th>Neves Paulista</th>\n",
       "      <td>15.0</td>\n",
       "    </tr>\n",
       "    <tr>\n",
       "      <th>Nova Crixás</th>\n",
       "      <td>15.0</td>\n",
       "    </tr>\n",
       "    <tr>\n",
       "      <th>Rio Branco do Ivaí</th>\n",
       "      <td>15.0</td>\n",
       "    </tr>\n",
       "    <tr>\n",
       "      <th>Rio Sono</th>\n",
       "      <td>15.0</td>\n",
       "    </tr>\n",
       "    <tr>\n",
       "      <th>Santa Rita do Novo Destino</th>\n",
       "      <td>15.0</td>\n",
       "    </tr>\n",
       "    <tr>\n",
       "      <th>Tejupá</th>\n",
       "      <td>15.0</td>\n",
       "    </tr>\n",
       "  </tbody>\n",
       "</table>\n",
       "</div>"
      ],
      "text/plain": [
       "                            NU_IDADE\n",
       "NO_MUNICIPIO_RESIDENCIA             \n",
       "Abreulândia                     15.0\n",
       "Diamante do Sul                 15.0\n",
       "Fagundes Varela                 15.0\n",
       "Flor do Sertão                  15.0\n",
       "Gouvelândia                     15.0\n",
       "Itaipava do Grajaú              15.0\n",
       "Jaborá                          15.0\n",
       "Lajeado Grande                  15.0\n",
       "Mansidão                        15.0\n",
       "Neves Paulista                  15.0\n",
       "Nova Crixás                     15.0\n",
       "Rio Branco do Ivaí              15.0\n",
       "Rio Sono                        15.0\n",
       "Santa Rita do Novo Destino      15.0\n",
       "Tejupá                          15.0"
      ]
     },
     "execution_count": 12,
     "metadata": {},
     "output_type": "execute_result"
    }
   ],
   "source": [
    "media_idade_municipio.loc[media_idade_municipio['NU_IDADE'] == media_idade_municipio['NU_IDADE'].min()] # Município com a média mais baixa"
   ]
  },
  {
   "cell_type": "code",
   "execution_count": 13,
   "metadata": {
    "hidden": true
   },
   "outputs": [
    {
     "data": {
      "text/html": [
       "<div>\n",
       "<style scoped>\n",
       "    .dataframe tbody tr th:only-of-type {\n",
       "        vertical-align: middle;\n",
       "    }\n",
       "\n",
       "    .dataframe tbody tr th {\n",
       "        vertical-align: top;\n",
       "    }\n",
       "\n",
       "    .dataframe thead th {\n",
       "        text-align: right;\n",
       "    }\n",
       "</style>\n",
       "<table border=\"1\" class=\"dataframe\">\n",
       "  <thead>\n",
       "    <tr style=\"text-align: right;\">\n",
       "      <th></th>\n",
       "      <th>NU_IDADE</th>\n",
       "      <th>Cidade</th>\n",
       "    </tr>\n",
       "    <tr>\n",
       "      <th>NO_MUNICIPIO_RESIDENCIA</th>\n",
       "      <th></th>\n",
       "      <th></th>\n",
       "    </tr>\n",
       "  </thead>\n",
       "  <tbody>\n",
       "    <tr>\n",
       "      <th>Abadia de Goiás</th>\n",
       "      <td>21.200000</td>\n",
       "      <td>Abadia de Goiás</td>\n",
       "    </tr>\n",
       "    <tr>\n",
       "      <th>Abadia dos Dourados</th>\n",
       "      <td>17.000000</td>\n",
       "      <td>Abadia dos Dourados</td>\n",
       "    </tr>\n",
       "    <tr>\n",
       "      <th>Abadiânia</th>\n",
       "      <td>17.600000</td>\n",
       "      <td>Abadiânia</td>\n",
       "    </tr>\n",
       "    <tr>\n",
       "      <th>Abaetetuba</th>\n",
       "      <td>23.023669</td>\n",
       "      <td>Abaetetuba</td>\n",
       "    </tr>\n",
       "    <tr>\n",
       "      <th>Abaeté</th>\n",
       "      <td>21.136364</td>\n",
       "      <td>Abaeté</td>\n",
       "    </tr>\n",
       "  </tbody>\n",
       "</table>\n",
       "</div>"
      ],
      "text/plain": [
       "                          NU_IDADE               Cidade\n",
       "NO_MUNICIPIO_RESIDENCIA                                \n",
       "Abadia de Goiás          21.200000      Abadia de Goiás\n",
       "Abadia dos Dourados      17.000000  Abadia dos Dourados\n",
       "Abadiânia                17.600000            Abadiânia\n",
       "Abaetetuba               23.023669           Abaetetuba\n",
       "Abaeté                   21.136364               Abaeté"
      ]
     },
     "execution_count": 13,
     "metadata": {},
     "output_type": "execute_result"
    }
   ],
   "source": [
    "municipio_idade = media_idade_municipio.index\n",
    "media_idade_municipio['Cidade'] = municipio_idade\n",
    "media_idade_municipio.head()"
   ]
  },
  {
   "cell_type": "markdown",
   "metadata": {
    "hidden": true
   },
   "source": [
    "**Dataset que analisa a longitude e latidude de cada município a fim de gerar um gráfico cartográfico**"
   ]
  },
  {
   "cell_type": "code",
   "execution_count": 14,
   "metadata": {
    "hidden": true
   },
   "outputs": [
    {
     "data": {
      "image/png": "[encoded data removed]",
      "text/plain": [
       "<Figure size 864x720 with 2 Axes>"
      ]
     },
     "metadata": {},
     "output_type": "display_data"
    }
   ],
   "source": [
    "site = 'https://github.com/kelvins/Municipios-Brasileiros/blob/main/csv/municipios.csv?raw=true'\n",
    "\n",
    "coordenadas = pd.read_csv(site)\n",
    "\n",
    "concatenado_idade = pd.merge(media_idade_municipio, coordenadas, how = 'left', left_on=['Cidade'], right_on = ['nome'])\n",
    "concatenado_idade.plot.scatter(y='latitude', x = 'longitude', \n",
    "                         c = concatenado_idade['NU_IDADE'],\n",
    "                         cmap = 'PiYG',\n",
    "                         figsize = (12,10)).set_title('Média de Idade ENEM 2019 por Município', fontsize = 16)\n",
    "ax = plt.gca()\n",
    "ax.set_facecolor('linen')\n",
    "plt.show();"
   ]
  },
  {
   "cell_type": "markdown",
   "metadata": {
    "hidden": true
   },
   "source": [
    "No gráfico acima, a região mais escura (de acordo com a escala) tende à região Sul/Sudeste. Em contrapartida, o Nordeste apresenta levemente com uma cor mais clara. Isso ressalta que, as regiões mais ao Sul do País apresentam idades mais novas em candidatos no ENEM 2019.\n",
    "\n",
    "**Levantamos a hipótese de uma possível política de incentivo maior às crianças e aos secundaristas.**"
   ]
  },
  {
   "cell_type": "markdown",
   "metadata": {
    "hidden": true
   },
   "source": [
    "**Qual estado predomina com candidatos mais novos?**"
   ]
  },
  {
   "cell_type": "code",
   "execution_count": 15,
   "metadata": {
    "hidden": true
   },
   "outputs": [
    {
     "data": {
      "image/png": "[encoded data removed]",
      "text/plain": [
       "<Figure size 720x576 with 1 Axes>"
      ]
     },
     "metadata": {},
     "output_type": "display_data"
    }
   ],
   "source": [
    "novos_idade_enem2019 = dados_enem2019.query('NU_IDADE <= 17')\n",
    "\n",
    "prop_novos_idade_enem2019 = pd.DataFrame(novos_idade_enem2019['SG_UF_RESIDENCIA'].value_counts(normalize = True)*100)\n",
    "\n",
    "plt.figure(figsize=(10, 8))\n",
    "sns.set_theme(style=\"whitegrid\")\n",
    "ax = sns.barplot(x=prop_novos_idade_enem2019.index, y = prop_novos_idade_enem2019['SG_UF_RESIDENCIA'], data=prop_novos_idade_enem2019).set_title('Proporção de candidatos com Idade Menor que 17 por Estado',  fontsize = 16)"
   ]
  },
  {
   "cell_type": "markdown",
   "metadata": {
    "hidden": true
   },
   "source": [
    "O Estado com candidatos mais jovens foi o de São Paulo. Em sequência, segue o estado de Minas Gerais. Esse atributo pode reforçar o mapa anterior proposto, demonstrando o escurecimento na região Sul e Sudeste."
   ]
  },
  {
   "cell_type": "markdown",
   "metadata": {
    "heading_collapsed": true
   },
   "source": [
    "# **O comportamento das notas no Estado do Ceará de acordo com o IDH**"
   ]
  },
  {
   "cell_type": "markdown",
   "metadata": {
    "hidden": true
   },
   "source": [
    "Importaremos os dados referente ao estado do Ceará para cada município a fim de coletar algumas informações. Os dados foram obtidos do próprio site do IBGE.\n",
    "\n",
    "*Referência: https://www.ibge.gov.br/cidades-e-estados/ce.html*"
   ]
  },
  {
   "cell_type": "markdown",
   "metadata": {
    "hidden": true
   },
   "source": [
    "**Importando os dados**"
   ]
  },
  {
   "cell_type": "code",
   "execution_count": 16,
   "metadata": {
    "hidden": true
   },
   "outputs": [
    {
     "data": {
      "text/html": [
       "<div>\n",
       "<style scoped>\n",
       "    .dataframe tbody tr th:only-of-type {\n",
       "        vertical-align: middle;\n",
       "    }\n",
       "\n",
       "    .dataframe tbody tr th {\n",
       "        vertical-align: top;\n",
       "    }\n",
       "\n",
       "    .dataframe thead th {\n",
       "        text-align: right;\n",
       "    }\n",
       "</style>\n",
       "<table border=\"1\" class=\"dataframe\">\n",
       "  <thead>\n",
       "    <tr style=\"text-align: right;\">\n",
       "      <th></th>\n",
       "      <th>Município</th>\n",
       "      <th>Código</th>\n",
       "      <th>Gentílico</th>\n",
       "      <th>Prefeito [2017]</th>\n",
       "      <th>Área Territorial - km² [2019]</th>\n",
       "      <th>População estimada - pessoas [2020]</th>\n",
       "      <th>Densidade demográfica - hab/km² [2010]</th>\n",
       "      <th>Escolarização &lt;span&gt;6 a 14 anos&lt;/span&gt; - % [2010]</th>\n",
       "      <th>IDHM</th>\n",
       "      <th>Mortalidade infantil - óbitos por mil nascidos vivos [2017]</th>\n",
       "      <th>Receitas realizadas - R$ (×1000) [2017]</th>\n",
       "      <th>Despesas empenhadas - R$ (×1000) [2017]</th>\n",
       "      <th>PIB per capita - R$ [2017]</th>\n",
       "    </tr>\n",
       "  </thead>\n",
       "  <tbody>\n",
       "    <tr>\n",
       "      <th>0</th>\n",
       "      <td>Abaiara</td>\n",
       "      <td>2300101.0</td>\n",
       "      <td>abaiarense</td>\n",
       "      <td>AFONSO TAVARES LEITE</td>\n",
       "      <td>180.833</td>\n",
       "      <td>11853.0</td>\n",
       "      <td>58.69</td>\n",
       "      <td>96.7</td>\n",
       "      <td>0.628</td>\n",
       "      <td>33.33</td>\n",
       "      <td>29043.96353</td>\n",
       "      <td>26827.90366</td>\n",
       "      <td>8009.04</td>\n",
       "    </tr>\n",
       "    <tr>\n",
       "      <th>1</th>\n",
       "      <td>Acarape</td>\n",
       "      <td>2300150.0</td>\n",
       "      <td>acarapense</td>\n",
       "      <td>FRANKLIN VERISSIMO OLIVEIRA</td>\n",
       "      <td>130.002</td>\n",
       "      <td>15036.0</td>\n",
       "      <td>98.52</td>\n",
       "      <td>96.8</td>\n",
       "      <td>0.606</td>\n",
       "      <td>14.56</td>\n",
       "      <td>38762.53540</td>\n",
       "      <td>36800.46805</td>\n",
       "      <td>9069.38</td>\n",
       "    </tr>\n",
       "    <tr>\n",
       "      <th>2</th>\n",
       "      <td>Acaraú</td>\n",
       "      <td>2300200.0</td>\n",
       "      <td>acarauense</td>\n",
       "      <td>ALEXANDRE FERREIRA GOMES DA SILVEIRA</td>\n",
       "      <td>842.471</td>\n",
       "      <td>63104.0</td>\n",
       "      <td>68.31</td>\n",
       "      <td>96.8</td>\n",
       "      <td>0.601</td>\n",
       "      <td>8.81</td>\n",
       "      <td>132656.38793</td>\n",
       "      <td>116962.81301</td>\n",
       "      <td>10192.64</td>\n",
       "    </tr>\n",
       "    <tr>\n",
       "      <th>3</th>\n",
       "      <td>Acopiara</td>\n",
       "      <td>2300309.0</td>\n",
       "      <td>acopiarense</td>\n",
       "      <td>ANTONIO ALMEIDA NETO</td>\n",
       "      <td>2254.279</td>\n",
       "      <td>54481.0</td>\n",
       "      <td>22.58</td>\n",
       "      <td>97.2</td>\n",
       "      <td>0.595</td>\n",
       "      <td>19.54</td>\n",
       "      <td>153148.70946</td>\n",
       "      <td>125356.16693</td>\n",
       "      <td>7405.32</td>\n",
       "    </tr>\n",
       "    <tr>\n",
       "      <th>4</th>\n",
       "      <td>Aiuaba</td>\n",
       "      <td>2300408.0</td>\n",
       "      <td>aiuabense</td>\n",
       "      <td>RAMILSON ARAUJO MORAES</td>\n",
       "      <td>2438.563</td>\n",
       "      <td>17493.0</td>\n",
       "      <td>6.66</td>\n",
       "      <td>97.5</td>\n",
       "      <td>0.569</td>\n",
       "      <td>10.87</td>\n",
       "      <td>37794.63071</td>\n",
       "      <td>33776.93227</td>\n",
       "      <td>6087.34</td>\n",
       "    </tr>\n",
       "  </tbody>\n",
       "</table>\n",
       "</div>"
      ],
      "text/plain": [
       "  Município     Código    Gentílico                       Prefeito [2017]  \\\n",
       "0   Abaiara  2300101.0   abaiarense                  AFONSO TAVARES LEITE   \n",
       "1   Acarape  2300150.0   acarapense           FRANKLIN VERISSIMO OLIVEIRA   \n",
       "2    Acaraú  2300200.0   acarauense  ALEXANDRE FERREIRA GOMES DA SILVEIRA   \n",
       "3  Acopiara  2300309.0  acopiarense                  ANTONIO ALMEIDA NETO   \n",
       "4    Aiuaba  2300408.0    aiuabense                RAMILSON ARAUJO MORAES   \n",
       "\n",
       "   Área Territorial - km² [2019]  População estimada - pessoas [2020]  \\\n",
       "0                        180.833                              11853.0   \n",
       "1                        130.002                              15036.0   \n",
       "2                        842.471                              63104.0   \n",
       "3                       2254.279                              54481.0   \n",
       "4                       2438.563                              17493.0   \n",
       "\n",
       "   Densidade demográfica - hab/km² [2010]  \\\n",
       "0                                   58.69   \n",
       "1                                   98.52   \n",
       "2                                   68.31   \n",
       "3                                   22.58   \n",
       "4                                    6.66   \n",
       "\n",
       "   Escolarização <span>6 a 14 anos</span> - % [2010]   IDHM  \\\n",
       "0                                               96.7  0.628   \n",
       "1                                               96.8  0.606   \n",
       "2                                               96.8  0.601   \n",
       "3                                               97.2  0.595   \n",
       "4                                               97.5  0.569   \n",
       "\n",
       "   Mortalidade infantil - óbitos por mil nascidos vivos [2017]  \\\n",
       "0                                              33.33             \n",
       "1                                              14.56             \n",
       "2                                               8.81             \n",
       "3                                              19.54             \n",
       "4                                              10.87             \n",
       "\n",
       "   Receitas realizadas - R$ (×1000) [2017]  \\\n",
       "0                              29043.96353   \n",
       "1                              38762.53540   \n",
       "2                             132656.38793   \n",
       "3                             153148.70946   \n",
       "4                              37794.63071   \n",
       "\n",
       "   Despesas empenhadas - R$ (×1000) [2017]  PIB per capita - R$ [2017]  \n",
       "0                              26827.90366                     8009.04  \n",
       "1                              36800.46805                     9069.38  \n",
       "2                             116962.81301                    10192.64  \n",
       "3                             125356.16693                     7405.32  \n",
       "4                              33776.93227                     6087.34  "
      ]
     },
     "execution_count": 16,
     "metadata": {},
     "output_type": "execute_result"
    }
   ],
   "source": [
    "dados_ce = pd.read_excel('CE_dados.xlsx')\n",
    "ce_dados = dados_enem2019.loc[dados_enem2019['SG_UF_RESIDENCIA'] == 'CE'][['NU_NOTA_CN', 'NU_NOTA_CH', 'NU_NOTA_MT', 'NU_NOTA_LC', 'SG_UF_RESIDENCIA', 'NO_MUNICIPIO_RESIDENCIA']].dropna(subset=['NU_NOTA_MT', 'NU_NOTA_CN', 'NU_NOTA_LC', 'NU_NOTA_CH'])\n",
    "\n",
    "dados_ce.head()"
   ]
  },
  {
   "cell_type": "code",
   "execution_count": 17,
   "metadata": {
    "hidden": true
   },
   "outputs": [
    {
     "data": {
      "text/html": [
       "<div>\n",
       "<style scoped>\n",
       "    .dataframe tbody tr th:only-of-type {\n",
       "        vertical-align: middle;\n",
       "    }\n",
       "\n",
       "    .dataframe tbody tr th {\n",
       "        vertical-align: top;\n",
       "    }\n",
       "\n",
       "    .dataframe thead th {\n",
       "        text-align: right;\n",
       "    }\n",
       "</style>\n",
       "<table border=\"1\" class=\"dataframe\">\n",
       "  <thead>\n",
       "    <tr style=\"text-align: right;\">\n",
       "      <th></th>\n",
       "      <th>NU_NOTA_CN</th>\n",
       "      <th>NU_NOTA_CH</th>\n",
       "      <th>NU_NOTA_MT</th>\n",
       "      <th>NU_NOTA_LC</th>\n",
       "      <th>Municipio</th>\n",
       "    </tr>\n",
       "    <tr>\n",
       "      <th>NO_MUNICIPIO_RESIDENCIA</th>\n",
       "      <th></th>\n",
       "      <th></th>\n",
       "      <th></th>\n",
       "      <th></th>\n",
       "      <th></th>\n",
       "    </tr>\n",
       "  </thead>\n",
       "  <tbody>\n",
       "    <tr>\n",
       "      <th>Abaiara</th>\n",
       "      <td>429.937500</td>\n",
       "      <td>469.000000</td>\n",
       "      <td>490.337500</td>\n",
       "      <td>478.537500</td>\n",
       "      <td>Abaiara</td>\n",
       "    </tr>\n",
       "    <tr>\n",
       "      <th>Acarape</th>\n",
       "      <td>437.394737</td>\n",
       "      <td>462.157895</td>\n",
       "      <td>496.789474</td>\n",
       "      <td>475.042105</td>\n",
       "      <td>Acarape</td>\n",
       "    </tr>\n",
       "    <tr>\n",
       "      <th>Acaraú</th>\n",
       "      <td>449.180000</td>\n",
       "      <td>446.620000</td>\n",
       "      <td>501.684000</td>\n",
       "      <td>492.792000</td>\n",
       "      <td>Acaraú</td>\n",
       "    </tr>\n",
       "    <tr>\n",
       "      <th>Acopiara</th>\n",
       "      <td>443.053333</td>\n",
       "      <td>481.693333</td>\n",
       "      <td>467.543333</td>\n",
       "      <td>499.253333</td>\n",
       "      <td>Acopiara</td>\n",
       "    </tr>\n",
       "    <tr>\n",
       "      <th>Aiuaba</th>\n",
       "      <td>420.233333</td>\n",
       "      <td>442.266667</td>\n",
       "      <td>457.250000</td>\n",
       "      <td>465.983333</td>\n",
       "      <td>Aiuaba</td>\n",
       "    </tr>\n",
       "  </tbody>\n",
       "</table>\n",
       "</div>"
      ],
      "text/plain": [
       "                         NU_NOTA_CN  NU_NOTA_CH  NU_NOTA_MT  NU_NOTA_LC  \\\n",
       "NO_MUNICIPIO_RESIDENCIA                                                   \n",
       "Abaiara                  429.937500  469.000000  490.337500  478.537500   \n",
       "Acarape                  437.394737  462.157895  496.789474  475.042105   \n",
       "Acaraú                   449.180000  446.620000  501.684000  492.792000   \n",
       "Acopiara                 443.053333  481.693333  467.543333  499.253333   \n",
       "Aiuaba                   420.233333  442.266667  457.250000  465.983333   \n",
       "\n",
       "                        Municipio  \n",
       "NO_MUNICIPIO_RESIDENCIA            \n",
       "Abaiara                   Abaiara  \n",
       "Acarape                   Acarape  \n",
       "Acaraú                     Acaraú  \n",
       "Acopiara                 Acopiara  \n",
       "Aiuaba                     Aiuaba  "
      ]
     },
     "execution_count": 17,
     "metadata": {},
     "output_type": "execute_result"
    }
   ],
   "source": [
    "nota_media_ce = ce_dados.groupby(['NO_MUNICIPIO_RESIDENCIA']).mean()[['NU_NOTA_CN', 'NU_NOTA_CH', 'NU_NOTA_MT', 'NU_NOTA_LC']]\n",
    "nota_media_ce['Municipio'] = nota_media_ce.index\n",
    "nota_media_ce.head()"
   ]
  },
  {
   "cell_type": "markdown",
   "metadata": {
    "hidden": true
   },
   "source": [
    "**Plotando os Gráficos de Dispersão**"
   ]
  },
  {
   "cell_type": "code",
   "execution_count": 18,
   "metadata": {
    "hidden": true,
    "scrolled": false
   },
   "outputs": [
    {
     "data": {
      "image/png": "[encoded data removed]",
      "text/plain": [
       "<Figure size 1080x576 with 4 Axes>"
      ]
     },
     "metadata": {},
     "output_type": "display_data"
    }
   ],
   "source": [
    "concatenado_ce = pd.merge(nota_media_ce, dados_ce, how = 'left', left_on=['Municipio'], right_on = ['Município'])\n",
    "idh_medias_ce = concatenado_ce[['Municipio', 'NU_NOTA_CN', 'NU_NOTA_CH', 'NU_NOTA_MT', 'NU_NOTA_LC', 'IDHM']]\n",
    "\n",
    "plt.figure(figsize=(15,8))\n",
    "plt.subplot(2,2,1)\n",
    "plt.title('Relação entre IDH do Município e a Média em Ciências da Natureza')\n",
    "plt.scatter(data =idh_medias_ce, y ='NU_NOTA_CN', x ='IDHM');\n",
    "plt.subplot(2,2,2)\n",
    "plt.title('Relação entre IDH do Município e a Média em Ciências Humanas')\n",
    "plt.scatter(data =idh_medias_ce, y ='NU_NOTA_CH', x ='IDHM');\n",
    "plt.subplot(2,2,3)\n",
    "plt.title('Relação entre IDH do Município e a Média em Matemática')\n",
    "plt.scatter(data =idh_medias_ce, y ='NU_NOTA_MT', x ='IDHM');\n",
    "plt.subplot(2,2,4)\n",
    "plt.title('Relação entre IDH do Município e a Média em Linguagens e Códigos')\n",
    "plt.scatter(data =idh_medias_ce, y ='NU_NOTA_LC', x ='IDHM');"
   ]
  },
  {
   "cell_type": "markdown",
   "metadata": {
    "hidden": true
   },
   "source": [
    "Visualmente os dados se dispersam muito em relação ao IDH do município."
   ]
  },
  {
   "cell_type": "code",
   "execution_count": 19,
   "metadata": {
    "hidden": true
   },
   "outputs": [
    {
     "data": {
      "image/png": "[encoded data removed]",
      "text/plain": [
       "<Figure size 432x288 with 2 Axes>"
      ]
     },
     "metadata": {},
     "output_type": "display_data"
    }
   ],
   "source": [
    "correlacao_ce = idh_medias_ce[['NU_NOTA_CN', 'NU_NOTA_CH', 'NU_NOTA_MT', 'NU_NOTA_LC', 'IDHM']].corr()\n",
    "sns.heatmap(correlacao_ce, cmap=\"Blues\", center=0, annot=True);"
   ]
  },
  {
   "cell_type": "markdown",
   "metadata": {
    "hidden": true
   },
   "source": [
    "De fato, há uma fraca relação entre o IDH e as provas. As que mais se destacaram pela relação foram Ciências Humanas e Ciências da Natureza.  Apesar de haver uma correlação fraca (não se é esperada uma correlação forte, dito que é apenas um evento de muitos) o IDH tem sim sua influência nas notas do ENEM.\n",
    "\n",
    "Esse fator é visível a partir dos gráficos, onde há uma mínima inclinação positiva da esquerda para direita, em que **quanto maior o IDH maior serão as notas**. "
   ]
  },
  {
   "cell_type": "markdown",
   "metadata": {
    "hidden": true
   },
   "source": [
    "O critério de análise seguiu a Correlação de Pearson:\n",
    "![](https://i0.wp.com/www.abgconsultoria.com.br/blog/wp-content/uploads/img2-2.png?w=1500)"
   ]
  },
  {
   "cell_type": "markdown",
   "metadata": {},
   "source": [
    "# **Influência que a renda familiar tem sobre as notas**"
   ]
  },
  {
   "cell_type": "markdown",
   "metadata": {},
   "source": [
    "Na célula abaixo, criamos um novo dataframe com as perguntas (de A a Q) e o que elas representam."
   ]
  },
  {
   "cell_type": "code",
   "execution_count": 20,
   "metadata": {},
   "outputs": [
    {
     "data": {
      "text/html": [
       "<div>\n",
       "<style scoped>\n",
       "    .dataframe tbody tr th:only-of-type {\n",
       "        vertical-align: middle;\n",
       "    }\n",
       "\n",
       "    .dataframe tbody tr th {\n",
       "        vertical-align: top;\n",
       "    }\n",
       "\n",
       "    .dataframe thead th {\n",
       "        text-align: right;\n",
       "    }\n",
       "</style>\n",
       "<table border=\"1\" class=\"dataframe\">\n",
       "  <thead>\n",
       "    <tr style=\"text-align: right;\">\n",
       "      <th></th>\n",
       "      <th>Q006</th>\n",
       "      <th>Q006_RESPOSTA</th>\n",
       "    </tr>\n",
       "  </thead>\n",
       "  <tbody>\n",
       "    <tr>\n",
       "      <th>0</th>\n",
       "      <td>C</td>\n",
       "      <td>De R$ 998,01 até R$ 1.497,00.</td>\n",
       "    </tr>\n",
       "    <tr>\n",
       "      <th>1</th>\n",
       "      <td>C</td>\n",
       "      <td>De R$ 998,01 até R$ 1.497,00.</td>\n",
       "    </tr>\n",
       "    <tr>\n",
       "      <th>2</th>\n",
       "      <td>A</td>\n",
       "      <td>Nenhuma renda.</td>\n",
       "    </tr>\n",
       "    <tr>\n",
       "      <th>3</th>\n",
       "      <td>C</td>\n",
       "      <td>De R$ 998,01 até R$ 1.497,00.</td>\n",
       "    </tr>\n",
       "    <tr>\n",
       "      <th>4</th>\n",
       "      <td>B</td>\n",
       "      <td>Até R$ 998,00.</td>\n",
       "    </tr>\n",
       "    <tr>\n",
       "      <th>...</th>\n",
       "      <td>...</td>\n",
       "      <td>...</td>\n",
       "    </tr>\n",
       "    <tr>\n",
       "      <th>127375</th>\n",
       "      <td>C</td>\n",
       "      <td>De R$ 998,01 até R$ 1.497,00.</td>\n",
       "    </tr>\n",
       "    <tr>\n",
       "      <th>127376</th>\n",
       "      <td>A</td>\n",
       "      <td>Nenhuma renda.</td>\n",
       "    </tr>\n",
       "    <tr>\n",
       "      <th>127377</th>\n",
       "      <td>C</td>\n",
       "      <td>De R$ 998,01 até R$ 1.497,00.</td>\n",
       "    </tr>\n",
       "    <tr>\n",
       "      <th>127378</th>\n",
       "      <td>E</td>\n",
       "      <td>De R$ 1.996,01 até R$ 2.495,00.</td>\n",
       "    </tr>\n",
       "    <tr>\n",
       "      <th>127379</th>\n",
       "      <td>B</td>\n",
       "      <td>Até R$ 998,00.</td>\n",
       "    </tr>\n",
       "  </tbody>\n",
       "</table>\n",
       "<p>127380 rows × 2 columns</p>\n",
       "</div>"
      ],
      "text/plain": [
       "       Q006                    Q006_RESPOSTA\n",
       "0         C    De R$ 998,01 até R$ 1.497,00.\n",
       "1         C    De R$ 998,01 até R$ 1.497,00.\n",
       "2         A                   Nenhuma renda.\n",
       "3         C    De R$ 998,01 até R$ 1.497,00.\n",
       "4         B                   Até R$ 998,00.\n",
       "...     ...                              ...\n",
       "127375    C    De R$ 998,01 até R$ 1.497,00.\n",
       "127376    A                   Nenhuma renda.\n",
       "127377    C    De R$ 998,01 até R$ 1.497,00.\n",
       "127378    E  De R$ 1.996,01 até R$ 2.495,00.\n",
       "127379    B                   Até R$ 998,00.\n",
       "\n",
       "[127380 rows x 2 columns]"
      ]
     },
     "execution_count": 20,
     "metadata": {},
     "output_type": "execute_result"
    }
   ],
   "source": [
    "rendas = {\n",
    "'A': 'Nenhuma renda.',\n",
    "'B': 'Até R$ 998,00.',\n",
    "'C' : 'De R$ 998,01 até R$ 1.497,00.',\n",
    "'D' : 'De R$ 1.497,01 até R$ 1.996,00.',\n",
    "'E' : 'De R$ 1.996,01 até R$ 2.495,00.',\n",
    "'F': 'De R$ 2.495,01 até R$ 2.994,00.',\n",
    "'G' :'De R$ 2.994,01 até R$ 3.992,00.',\n",
    "'H' : 'De R$ 3.992,01 até R$ 4.990,00.',\n",
    "'I' : 'De R$ 4.990,01 até R$ 5.988,00.',\n",
    "'J' : 'De R$ 5.988,01 até R$ 6.986,00.',\n",
    "'K' : 'De R$ 6.986,01 até R$ 7.984,00.',\n",
    "'L' : 'De R$ 7.984,01 até R$ 8.982,00.',\n",
    "'M' :'De R$ 8.982,01 até R$ 9.980,00.',\n",
    "'N' : 'De R$ 9.980,01 até R$ 11.976,00.',\n",
    "'O' : 'De R$ 11.976,01 até R$ 14.970,00.',\n",
    "'P' : 'De R$ 14.970,01 até R$ 19.960,00.',\n",
    "'Q' :'Mais de R$ 19.960,00.'\n",
    "}\n",
    "\n",
    "df= dados_enem2019.copy().reset_index(drop=True)\n",
    "df['Q006_RESPOSTA'] = [rendas[resposta] for resposta in df.Q006]\n",
    "df[['Q006', 'Q006_RESPOSTA']]"
   ]
  },
  {
   "cell_type": "code",
   "execution_count": 21,
   "metadata": {},
   "outputs": [],
   "source": [
    "renda_ordenada = pd.DataFrame([rendas])\n",
    "renda_ordenada = list(renda_ordenada.T[0])"
   ]
  },
  {
   "cell_type": "markdown",
   "metadata": {},
   "source": [
    "Utilizaremos Boxplot para análise:\n",
    "\n",
    "![](https://res.cloudinary.com/practicaldev/image/fetch/s--RLvfX5qg--/c_limit%2Cf_auto%2Cfl_progressive%2Cq_auto%2Cw_880/https://miro.medium.com/max/1024/0%2ATmxBdUzCLOmZu6zB.png)\n",
    "\n",
    "\n",
    "*Fonte: https://dev.to/giselyalves13/visualizacao-de-dados-com-seaborn-2892*"
   ]
  },
  {
   "cell_type": "markdown",
   "metadata": {},
   "source": [
    "Agora, plotamos um boxplot para cada matéria com todos os dados da função describe, que são: Mínimo, Máximo, 1º, 2º e 3º quartis, e média, para termos uma visualização ampliada da a relação que a renda tem sobre as notas."
   ]
  },
  {
   "cell_type": "code",
   "execution_count": 22,
   "metadata": {},
   "outputs": [
    {
     "data": {
      "application/vnd.jupyter.widget-view+json": {
       "model_id": "a1b63efa7d3c41eb872978b3f938193f",
       "version_major": 2,
       "version_minor": 0
      },
      "text/plain": [
       "interactive(children=(Dropdown(description='materia', options=('Ciências da Natureza', 'Ciências Humanas', 'Ma…"
      ]
     },
     "metadata": {},
     "output_type": "display_data"
    }
   ],
   "source": [
    "materias = {'Ciências da Natureza':'NU_NOTA_CN',\n",
    "            'Ciências Humanas':'NU_NOTA_CH',\n",
    "            'Matemática':'NU_NOTA_MT',\n",
    "            'Linguagens e Códigos':'NU_NOTA_LC'}\n",
    "\n",
    "def f(materia):\n",
    "    plt.figure(figsize=(10, 8))\n",
    "    sns.boxplot(x=materias[materia], y = \"Q006_RESPOSTA\", data = df, order = renda_ordenada)\n",
    "    plt.title(f\"Boxplot das Notas de {materia} pela Renda\", fontsize = 16);\n",
    "    \n",
    "interact(f, materia=materias.keys());"
   ]
  },
  {
   "cell_type": "markdown",
   "metadata": {},
   "source": [
    "Quanto maior a renda do candidato, maior será seu desempenho. Isto é nítido nos boxplots acima. Em quase todos os gráficos, a nota máxima de quem tem renda maior que 19.960 reais é maior que a nota do maior outlier de quem não tem nenhuma renda. Há de se observar o segundo quartil, ou a mediana, para cada nível de renda. De fato, há uma disparidade considerável e significativa em relação aos níveis.\n",
    "\n",
    "\n",
    "Infelizmente, os gráficos demonstram a desigualdade social estruturada no país, onde o acesso à informação e aos materiais é garantido àqueles que tem renda suficiente para suprir uma qualidade de ensino adequada e satisfatória."
   ]
  }
 ],
 "metadata": {
  "kernelspec": {
   "display_name": "Python 3",
   "language": "python",
   "name": "python3"
  },
  "language_info": {
   "codemirror_mode": {
    "name": "ipython",
    "version": 3
   },
   "file_extension": ".py",
   "mimetype": "text/x-python",
   "name": "python",
   "nbconvert_exporter": "python",
   "pygments_lexer": "ipython3",
   "version": "3.8.3"
  },
  "toc": {
   "base_numbering": 1,
   "nav_menu": {},
   "number_sections": true,
   "sideBar": true,
   "skip_h1_title": false,
   "title_cell": "Table of Contents",
   "title_sidebar": "Contents",
   "toc_cell": false,
   "toc_position": {},
   "toc_section_display": true,
   "toc_window_display": false
  },
  "varInspector": {
   "cols": {
    "lenName": 16,
    "lenType": 16,
    "lenVar": 40
   },
   "kernels_config": {
    "python": {
     "delete_cmd_postfix": "",
     "delete_cmd_prefix": "del ",
     "library": "var_list.py",
     "varRefreshCmd": "print(var_dic_list())"
    },
    "r": {
     "delete_cmd_postfix": ") ",
     "delete_cmd_prefix": "rm(",
     "library": "var_list.r",
     "varRefreshCmd": "cat(var_dic_list()) "
    }
   },
   "types_to_exclude": [
    "module",
    "function",
    "builtin_function_or_method",
    "instance",
    "_Feature"
   ],
   "window_display": false
  }
 },
 "nbformat": 4,
 "nbformat_minor": 2
}
